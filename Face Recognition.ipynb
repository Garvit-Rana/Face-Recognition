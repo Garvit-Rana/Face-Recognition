{
 "cells": [
  {
   "cell_type": "code",
   "execution_count": 7,
   "metadata": {
    "ExecuteTime": {
     "end_time": "2019-12-30T06:36:13.008553Z",
     "start_time": "2019-12-30T06:36:12.947516Z"
    }
   },
   "outputs": [],
   "source": [
    "import face_recognition\n",
    "import cv2"
   ]
  },
  {
   "cell_type": "code",
   "execution_count": 27,
   "metadata": {
    "ExecuteTime": {
     "end_time": "2019-12-30T07:00:39.142870Z",
     "start_time": "2019-12-30T07:00:28.220960Z"
    }
   },
   "outputs": [],
   "source": [
    "image=face_recognition.load_image_file(\"messi.jpg\")\n",
    "faces=face_recognition.face_locations(image)"
   ]
  },
  {
   "cell_type": "code",
   "execution_count": 18,
   "metadata": {
    "ExecuteTime": {
     "end_time": "2019-12-30T06:42:20.067471Z",
     "start_time": "2019-12-30T06:42:20.061490Z"
    }
   },
   "outputs": [
    {
     "name": "stdout",
     "output_type": "stream",
     "text": [
      "there are 1 people in the frame\n"
     ]
    }
   ],
   "source": [
    "print(\"there are\",len(faces),\"people in the frame\")"
   ]
  },
  {
   "cell_type": "code",
   "execution_count": 22,
   "metadata": {
    "ExecuteTime": {
     "end_time": "2019-12-30T06:55:36.727572Z",
     "start_time": "2019-12-30T06:55:33.590323Z"
    }
   },
   "outputs": [],
   "source": [
    "for i in faces:\n",
    "    top,right,bottom,left=i\n",
    "shot=image[top:bottom,left:right]\n",
    "cv2.imshow(\"d\",shot)\n",
    "cv2.waitKey(0)\n",
    "cv2.destroyAllWindows()"
   ]
  },
  {
   "cell_type": "code",
   "execution_count": 29,
   "metadata": {
    "ExecuteTime": {
     "end_time": "2019-12-30T07:05:53.294028Z",
     "start_time": "2019-12-30T07:05:52.021707Z"
    }
   },
   "outputs": [],
   "source": [
    "face_marks=face_recognition.face_landmarks(image)\n"
   ]
  },
  {
   "cell_type": "code",
   "execution_count": 31,
   "metadata": {
    "ExecuteTime": {
     "end_time": "2019-12-30T07:07:01.168274Z",
     "start_time": "2019-12-30T07:07:01.156276Z"
    },
    "collapsed": true
   },
   "outputs": [
    {
     "data": {
      "text/plain": [
       "[{'chin': [(236, 199),\n",
       "   (237, 223),\n",
       "   (240, 247),\n",
       "   (246, 271),\n",
       "   (256, 294),\n",
       "   (272, 315),\n",
       "   (291, 333),\n",
       "   (311, 348),\n",
       "   (335, 351),\n",
       "   (357, 347),\n",
       "   (376, 331),\n",
       "   (391, 313),\n",
       "   (404, 291),\n",
       "   (411, 268),\n",
       "   (416, 244),\n",
       "   (419, 220),\n",
       "   (418, 197)],\n",
       "  'left_eyebrow': [(257, 184), (268, 174), (284, 170), (300, 171), (316, 176)],\n",
       "  'right_eyebrow': [(349, 177),\n",
       "   (364, 173),\n",
       "   (380, 171),\n",
       "   (395, 176),\n",
       "   (403, 188)],\n",
       "  'nose_bridge': [(333, 194), (333, 211), (333, 227), (334, 244)],\n",
       "  'nose_tip': [(316, 252), (324, 256), (334, 260), (343, 256), (351, 252)],\n",
       "  'left_eye': [(280, 197),\n",
       "   (288, 192),\n",
       "   (299, 192),\n",
       "   (309, 198),\n",
       "   (299, 201),\n",
       "   (288, 201)],\n",
       "  'right_eye': [(352, 199),\n",
       "   (362, 193),\n",
       "   (373, 193),\n",
       "   (382, 197),\n",
       "   (373, 201),\n",
       "   (362, 201)],\n",
       "  'top_lip': [(303, 281),\n",
       "   (314, 280),\n",
       "   (325, 279),\n",
       "   (335, 281),\n",
       "   (344, 279),\n",
       "   (355, 280),\n",
       "   (366, 282),\n",
       "   (361, 283),\n",
       "   (344, 285),\n",
       "   (335, 286),\n",
       "   (325, 284),\n",
       "   (308, 283)],\n",
       "  'bottom_lip': [(366, 282),\n",
       "   (355, 293),\n",
       "   (345, 298),\n",
       "   (335, 299),\n",
       "   (325, 298),\n",
       "   (315, 291),\n",
       "   (303, 281),\n",
       "   (308, 283),\n",
       "   (325, 287),\n",
       "   (335, 289),\n",
       "   (344, 287),\n",
       "   (361, 283)]}]"
      ]
     },
     "execution_count": 31,
     "metadata": {},
     "output_type": "execute_result"
    }
   ],
   "source": [
    "face_marks"
   ]
  },
  {
   "cell_type": "code",
   "execution_count": 32,
   "metadata": {
    "ExecuteTime": {
     "end_time": "2019-12-30T07:15:16.318387Z",
     "start_time": "2019-12-30T07:15:14.345931Z"
    },
    "collapsed": true
   },
   "outputs": [
    {
     "data": {
      "text/plain": [
       "array([-0.18428373,  0.12557183, -0.00598241, -0.0422317 , -0.13342224,\n",
       "        0.061087  , -0.05531897, -0.06869575,  0.09657414, -0.07798302,\n",
       "        0.26210093, -0.03658788, -0.322483  , -0.02106146, -0.05228009,\n",
       "        0.06183318, -0.11132702, -0.05058697, -0.13050663, -0.15577574,\n",
       "       -0.03750297,  0.09773282,  0.03207043,  0.05323583, -0.1488885 ,\n",
       "       -0.28851286, -0.03221769, -0.14116511,  0.03947538, -0.17962962,\n",
       "        0.02229095,  0.07259154, -0.09505218, -0.10102442,  0.0658531 ,\n",
       "        0.00658844, -0.04475593, -0.06658819,  0.27632865, -0.03648851,\n",
       "       -0.07108819, -0.02627108,  0.14820389,  0.31252581,  0.07915129,\n",
       "       -0.01132898,  0.02048596, -0.12606253,  0.15495211, -0.18932059,\n",
       "        0.09824801,  0.16374299,  0.14870313,  0.07846563,  0.0776459 ,\n",
       "       -0.16692659, -0.00912815,  0.19192088, -0.17084651,  0.12505642,\n",
       "        0.0851154 , -0.00837266, -0.1163988 , -0.09580216,  0.20580252,\n",
       "        0.12407797, -0.12840149, -0.20301971,  0.13382597, -0.10642353,\n",
       "       -0.06604862,  0.1511194 , -0.13114034, -0.18255256, -0.15382496,\n",
       "        0.10735169,  0.30204773,  0.18789425, -0.13047007, -0.00359425,\n",
       "       -0.08060933, -0.1101813 , -0.01533433,  0.08466432, -0.12348693,\n",
       "       -0.09771352,  0.05164048,  0.05979512,  0.14798547,  0.06913775,\n",
       "       -0.07110544,  0.21718705,  0.0725826 , -0.02314478,  0.05975974,\n",
       "        0.01262558, -0.20547119, -0.05666838, -0.09795111, -0.03194006,\n",
       "        0.05396453, -0.11164114,  0.05975872,  0.10490502, -0.16092873,\n",
       "        0.17968777, -0.05033662, -0.00348805,  0.0758793 ,  0.01691024,\n",
       "       -0.05052809, -0.025844  ,  0.18509713, -0.27241215,  0.17608815,\n",
       "        0.07237102,  0.12088995,  0.14362092,  0.12213022,  0.07748839,\n",
       "        0.0751135 ,  0.06540197, -0.15457015, -0.09270816,  0.10368617,\n",
       "       -0.08692248,  0.04541898, -0.03056588])"
      ]
     },
     "execution_count": 32,
     "metadata": {},
     "output_type": "execute_result"
    }
   ],
   "source": [
    "image1=face_recognition.load_image_file(\"ron.jpg\")\n",
    "messi_enc=face_recognition.face_encodings(image)[0]\n",
    "ron_enc=face_recognition.face_encodings(image1)[0]\n",
    "messi_enc"
   ]
  },
  {
   "cell_type": "code",
   "execution_count": 33,
   "metadata": {
    "ExecuteTime": {
     "end_time": "2019-12-30T07:17:18.130898Z",
     "start_time": "2019-12-30T07:17:18.063951Z"
    }
   },
   "outputs": [
    {
     "data": {
      "text/plain": [
       "[False]"
      ]
     },
     "execution_count": 33,
     "metadata": {},
     "output_type": "execute_result"
    }
   ],
   "source": [
    "result=face_recognition.compare_faces([messi_enc],ron_enc)\n",
    "result"
   ]
  },
  {
   "cell_type": "code",
   "execution_count": 34,
   "metadata": {
    "ExecuteTime": {
     "end_time": "2019-12-30T07:18:32.155146Z",
     "start_time": "2019-12-30T07:18:31.511808Z"
    }
   },
   "outputs": [
    {
     "data": {
      "text/plain": [
       "[True]"
      ]
     },
     "execution_count": 34,
     "metadata": {},
     "output_type": "execute_result"
    }
   ],
   "source": [
    "image1=face_recognition.load_image_file(\"messi1.jpg\")\n",
    "unknown_enc=face_recognition.face_encodings(image1)[0]\n",
    "result=face_recognition.compare_faces([messi_enc],unknown_enc)\n",
    "result"
   ]
  },
  {
   "cell_type": "code",
   "execution_count": 36,
   "metadata": {
    "ExecuteTime": {
     "end_time": "2019-12-30T10:57:44.872302Z",
     "start_time": "2019-12-30T10:57:44.864301Z"
    }
   },
   "outputs": [],
   "source": [
    "##main stuff starts now!\n",
    "known_encoding=[\n",
    "messi_enc,unknown_enc    \n",
    "]\n",
    "known_name=[\n",
    "    \"Messi\",\"Ronaldo\"\n",
    "]"
   ]
  },
  {
   "cell_type": "code",
   "execution_count": 52,
   "metadata": {
    "ExecuteTime": {
     "end_time": "2019-12-30T12:23:59.646845Z",
     "start_time": "2019-12-30T12:19:47.576486Z"
    }
   },
   "outputs": [
    {
     "name": "stdout",
     "output_type": "stream",
     "text": [
      "Oh so you are a new guest. What shall we Call you sweetheart? Or write bye to exit\n",
      "Modi\n",
      "Welcome To RANA's Family!! Enjoy yourself.\n",
      "Oh so you are a new guest. What shall we Call you sweetheart? Or write bye to exit\n",
      "Shah\n",
      "Welcome To RANA's Family!! Enjoy yourself.\n"
     ]
    }
   ],
   "source": [
    "cap=cv2.VideoCapture(0)\n",
    "flag=0\n",
    "undetected=[]\n",
    "\n",
    "while cap.isOpened():\n",
    "    \n",
    "    ret,frame=cap.read()\n",
    "    rgb_frame=cv2.cvtColor(frame,cv2.COLOR_BGR2RGB)\n",
    "    detect=face_recognition.face_locations(rgb_frame)\n",
    "    face_encoding=face_recognition.face_encodings(rgb_frame,detect)\n",
    "    face_names=[]\n",
    "    p=0\n",
    "    \n",
    "    for i in face_encoding: \n",
    "        result=face_recognition.compare_faces(known_encoding,i)\n",
    "        name=\"Unknown Person!\"\n",
    "        if True in result:\n",
    "            index=result.index(True)\n",
    "            name=known_name[index]\n",
    "        else:\n",
    "            #undetected.append(p)\n",
    "            print(\"Oh so you are a new guest. What shall we Call you sweetheart? Or write bye to exit\")\n",
    "            a=input()\n",
    "            if a==\"bye\":\n",
    "                p=1\n",
    "                break\n",
    "            print(\"Welcome To RANA's Family!! Enjoy yourself.\")\n",
    "            known_encoding.append(i)\n",
    "            known_name.append(a)\n",
    "            name=a\n",
    "        face_names.append(name)\n",
    "    if p==1:\n",
    "        break\n",
    "    for (top,right,bottom,left),name in zip(detect,face_names):\n",
    "        cv2.rectangle(frame, (left, top), (right, bottom), (0, 0, 255), 2)\n",
    "\n",
    "        # Draw a label with a name below the face\n",
    "        cv2.rectangle(frame, (left, bottom - 35), (right, bottom), (0, 0, 255), cv2.FILLED)\n",
    "        font = cv2.FONT_HERSHEY_DUPLEX\n",
    "        cv2.putText(frame, name, (left + 6, bottom - 6), font, 1.0, (255, 255, 255), 1)\n",
    "    \n",
    "    cv2.imshow(\"frame\",frame)\n",
    "    k=cv2.waitKey(4)\n",
    "    if k==27:\n",
    "        break\n",
    "cap.release()\n",
    "cv2.destroyAllWindows()"
   ]
  },
  {
   "cell_type": "code",
   "execution_count": null,
   "metadata": {},
   "outputs": [],
   "source": []
  },
  {
   "cell_type": "code",
   "execution_count": null,
   "metadata": {},
   "outputs": [],
   "source": []
  },
  {
   "cell_type": "code",
   "execution_count": null,
   "metadata": {},
   "outputs": [],
   "source": []
  },
  {
   "cell_type": "code",
   "execution_count": null,
   "metadata": {},
   "outputs": [],
   "source": []
  },
  {
   "cell_type": "code",
   "execution_count": null,
   "metadata": {},
   "outputs": [],
   "source": []
  }
 ],
 "metadata": {
  "hide_input": false,
  "kernelspec": {
   "display_name": "Python 3",
   "language": "python",
   "name": "python3"
  },
  "language_info": {
   "codemirror_mode": {
    "name": "ipython",
    "version": 3
   },
   "file_extension": ".py",
   "mimetype": "text/x-python",
   "name": "python",
   "nbconvert_exporter": "python",
   "pygments_lexer": "ipython3",
   "version": "3.6.5"
  },
  "toc": {
   "base_numbering": 1,
   "nav_menu": {},
   "number_sections": true,
   "sideBar": true,
   "skip_h1_title": false,
   "title_cell": "Table of Contents",
   "title_sidebar": "Contents",
   "toc_cell": false,
   "toc_position": {},
   "toc_section_display": true,
   "toc_window_display": false
  }
 },
 "nbformat": 4,
 "nbformat_minor": 2
}
